{
  "cells": [
    {
      "cell_type": "markdown",
      "id": "13d4a658-e1d2-4810-adc4-a0939578260d",
      "metadata": {
        "id": "13d4a658-e1d2-4810-adc4-a0939578260d"
      },
      "source": [
        "# PERULANGAN - Bagian 1"
      ]
    },
    {
      "cell_type": "markdown",
      "id": "7e64d286-fa21-4dff-ad44-77daa05595b1",
      "metadata": {
        "id": "7e64d286-fa21-4dff-ad44-77daa05595b1"
      },
      "source": [
        "## Pengantar\n",
        "Komputer dapat melaksanakan instruksi berulang tanpa rasa bosan dengan kinerja yang sama.\n",
        "Manusia gampang bosan dan cenderung rentan melakukan kesalahan\n",
        "Contoh:\n",
        "Menulis \"Saya berjanji akan belajar Alpro dengan rajin\" sebanyak 100 lembar."
      ]
    },
    {
      "cell_type": "markdown",
      "id": "050807ba-d9eb-409a-b967-11530a8bccf2",
      "metadata": {
        "id": "050807ba-d9eb-409a-b967-11530a8bccf2"
      },
      "source": [
        "## Definisi\n",
        "Perulangan adalah suatu atau serangkaian bentuk kegiatan mengulang suatu pernyataan sampai batas yang dinginkan yang bertujuan untuk mengefisienkan penulisan sintaks program.\n",
        "\n",
        "Digunakan untuk program yang pernyataannya akan dieksekusi berulang-ulang. Instruksi dikerjakan selama memenuhi suatu kondisi tertentu. Jika syarat (kondisi) masih terpenuhi maka pernyataan (aksi) akan terus dilakukan secara berulang."
      ]
    },
    {
      "cell_type": "markdown",
      "id": "6a68e9a5-7d3c-4a77-86c6-fdc569db961c",
      "metadata": {
        "id": "6a68e9a5-7d3c-4a77-86c6-fdc569db961c"
      },
      "source": [
        "## Struktur Perulangan\n",
        "\n",
        "- Terdapat 2 bagian struktur pengulangan:\n",
        "    1. Kondisi\n",
        "    2. Pernyataan\n",
        "\n",
        "- Struktur pengulangan biasanya disertai bagian:\n",
        "    1. Inisialisasi\n",
        "    2. Terminasi\n",
        "\n",
        "- Di dalam algoritma, pengulangan (repetition atau loop) dapat dilakukan sejumlah n kali, atau sampai kondisi pengulangan berhenti tercapai.\n",
        "- Perulangan harus berhenti.\n"
      ]
    },
    {
      "cell_type": "markdown",
      "id": "07f844fc-a82f-43ed-ae3f-a2a5a42f0693",
      "metadata": {
        "id": "07f844fc-a82f-43ed-ae3f-a2a5a42f0693"
      },
      "source": [
        "## Jenis Perulangan\n",
        "1. For Loop (Perulangan terhitung atau perulangan dengan urutan tertentu dan terbatas)\n",
        "2. While Loop (Perulangan tidak terhitung atau perulangan dengan syarat atau logika)"
      ]
    },
    {
      "cell_type": "markdown",
      "id": "42687694-7911-4d5c-ba8b-6cc22389cb4e",
      "metadata": {
        "id": "42687694-7911-4d5c-ba8b-6cc22389cb4e"
      },
      "source": [
        "## For Loop\n",
        "For pada python memiliki perilaku yang berbeda dengan for pada kebanyakan bahasa pemrograman yang lain, dikarenakan sangat berkaitan dengan data sequence atau data kolektif. Jika dibandingkan dengan bahasa lain, for pada python lebih dikenal sebagai foreach."
      ]
    },
    {
      "cell_type": "markdown",
      "id": "4aaabf08-5991-4a85-8d8f-e0c69c114f96",
      "metadata": {
        "id": "4aaabf08-5991-4a85-8d8f-e0c69c114f96"
      },
      "source": [
        "Data sequence merujuk pada tipe data yang berisi urutan elemen yang dapat diakses satu per satu menggunakan indeks atau iterasi. Beberapa contoh tipe data sequence yang umum digunakan di banyak bahasa pemrograman termasuk:"
      ]
    },
    {
      "cell_type": "markdown",
      "id": "ea94e05f-67c7-4e6a-ae2e-0d647e6b9e4e",
      "metadata": {
        "id": "ea94e05f-67c7-4e6a-ae2e-0d647e6b9e4e"
      },
      "source": [
        "1. List\n",
        "   Urutan elemen yang dapat diubah (mutable) dan diindeks dengan angka, dimulai dari 0.\n",
        "   Contoh: [1, 2, 3, 4, 5]"
      ]
    },
    {
      "cell_type": "markdown",
      "id": "d0b75a2d-893f-4020-9c72-1c1999618b92",
      "metadata": {
        "id": "d0b75a2d-893f-4020-9c72-1c1999618b92"
      },
      "source": [
        "2. Tuple\n",
        "   Urutan elemen yang tidak dapat diubah (immutable) dan diindeks dengan angka, dimulai dari 0.\n",
        "   Contoh: (1, 2, 3, 4, 5)"
      ]
    },
    {
      "cell_type": "markdown",
      "id": "5073c983-f42c-4ec4-ae07-a442ff4bc6a4",
      "metadata": {
        "id": "5073c983-f42c-4ec4-ae07-a442ff4bc6a4"
      },
      "source": [
        "3. String\n",
        "   Urutan karakter yang diindeks dengan angka, dimulai dari 0.\n",
        "   Contoh: 'Hello'"
      ]
    },
    {
      "cell_type": "markdown",
      "id": "5a7a5561-0d79-4222-afa2-7e327e3870e3",
      "metadata": {
        "id": "5a7a5561-0d79-4222-afa2-7e327e3870e3"
      },
      "source": [
        "4. Range\n",
        "   Urutan bilangan yang diindeks dengan angka, digunakan untuk membuat deret angka.\n",
        "   Contoh: range(1, 6) akan menghasilkan 1, 2, 3, 4, 5"
      ]
    },
    {
      "cell_type": "markdown",
      "id": "2022f104-178a-4e79-866f-403a109d62d4",
      "metadata": {
        "id": "2022f104-178a-4e79-866f-403a109d62d4"
      },
      "source": [
        "5. Set\n",
        "   Kumpulan elemen unik yang tidak diindeks dengan angka, sehingga tidak dianggap sebagai sequence dalam beberapa konteks.\n",
        "   Contoh: {1, 2, 3, 4, 5}"
      ]
    },
    {
      "cell_type": "markdown",
      "id": "8fe6c67e-80de-4c38-b545-39284d6062e4",
      "metadata": {
        "id": "8fe6c67e-80de-4c38-b545-39284d6062e4"
      },
      "source": [
        "6. Dictionary\n",
        "   Kumpulan pasangan kunci-nilai yang diindeks dengan kunci unik, bukan angka.\n",
        "   Contoh: {'a': 1, 'b': 2, 'c': 3}"
      ]
    },
    {
      "cell_type": "markdown",
      "id": "1a58da52-7508-49a9-a08d-e0eb5026f93a",
      "metadata": {
        "id": "1a58da52-7508-49a9-a08d-e0eb5026f93a"
      },
      "source": [
        "Data sequence memungkinkan pengguna untuk menyimpan dan mengakses beberapa nilai dalam satu variabel dengan cara yang terstruktur. Kemampuan untuk mengakses elemen-elemen dalam urutan ini secara teratur adalah fitur penting dalam banyak bahasa pemrograman, termasuk Python."
      ]
    },
    {
      "cell_type": "markdown",
      "id": "5fa98850-1230-4383-bec3-0a4f656c0d33",
      "metadata": {
        "id": "5fa98850-1230-4383-bec3-0a4f656c0d33"
      },
      "source": [
        "## For Loop dengan Range"
      ]
    },
    {
      "cell_type": "markdown",
      "id": "f3f05ebe-3de0-43a0-9270-b568ee1bb3c7",
      "metadata": {
        "id": "f3f05ebe-3de0-43a0-9270-b568ee1bb3c7"
      },
      "source": [
        "For loop dengan range adalah salah satu fitur yang sangat berguna dalam Python untuk melakukan iterasi sejumlah tertentu.\n",
        "\n",
        "Range adalah fungsi bawaan Python yang menghasilkan deret bilangan dengan pola tertentu, yang biasanya digunakan bersama dengan for loop. Berikut adalah penjelasan tentang for loop dengan range:"
      ]
    },
    {
      "cell_type": "markdown",
      "id": "2ef2b62a-e780-4c1d-a169-efe6a9198af1",
      "metadata": {
        "id": "2ef2b62a-e780-4c1d-a169-efe6a9198af1"
      },
      "source": [
        "1. Menggunakan range dengan for loop:\n",
        "   Dengan range, Anda dapat membuat deret bilangan yang dapat digunakan untuk mengontrol berapa kali sebuah for loop dijalankan."
      ]
    },
    {
      "cell_type": "code",
      "execution_count": null,
      "id": "942ce5d1-01d2-46f4-8131-7c3c70fdd3bf",
      "metadata": {
        "id": "942ce5d1-01d2-46f4-8131-7c3c70fdd3bf"
      },
      "outputs": [],
      "source": [
        "for i in range(5):\n",
        "    print(i)"
      ]
    },
    {
      "cell_type": "markdown",
      "id": "46d5a8f7-1a96-42ec-a7c4-599b4f286189",
      "metadata": {
        "id": "46d5a8f7-1a96-42ec-a7c4-599b4f286189"
      },
      "source": [
        "2. Menggunakan range dengan nilai awal dan akhir:\n",
        "   Dengan range, Anda dapat membuat deret bilangan yang dapat digunakan untuk mengontrol berapa kali sebuah for loop dijalankan."
      ]
    },
    {
      "cell_type": "code",
      "execution_count": null,
      "id": "a1fa1d33-ad60-40b2-a4d5-efad91af86e7",
      "metadata": {
        "id": "a1fa1d33-ad60-40b2-a4d5-efad91af86e7"
      },
      "outputs": [],
      "source": [
        "for i in range(0, 5):\n",
        "    print(i)"
      ]
    },
    {
      "cell_type": "markdown",
      "id": "28972334-bc17-422a-a0f4-f8965af9ca0f",
      "metadata": {
        "id": "28972334-bc17-422a-a0f4-f8965af9ca0f"
      },
      "source": [
        "3. Menggunakan range dengan nilai awal, akhir, dan loncatan:\n",
        "   Anda juga dapat menggunakan range dengan tiga parameter untuk mengontrol nilai awal, nilai akhir, dan loncatan (step) dari iterasi."
      ]
    },
    {
      "cell_type": "code",
      "execution_count": null,
      "id": "4ce578cb-80ec-427c-add3-dd5e92747bda",
      "metadata": {
        "id": "4ce578cb-80ec-427c-add3-dd5e92747bda"
      },
      "outputs": [],
      "source": [
        "for i in range(0, 5, 1):\n",
        "    print(i)"
      ]
    },
    {
      "cell_type": "markdown",
      "id": "fbec2e55-e7c8-4f95-88f1-d2184b1be649",
      "metadata": {
        "id": "fbec2e55-e7c8-4f95-88f1-d2184b1be649"
      },
      "source": [
        "4. Menggunakan range untuk menghasilkan nilai terbalik:\n",
        "   Anda dapat menggunakan nilai negatif untuk parameter loncatan untuk menghasilkan deret bilangan terbalik."
      ]
    },
    {
      "cell_type": "code",
      "execution_count": null,
      "id": "3972121b-75f0-45cc-8ad4-d103c1889309",
      "metadata": {
        "id": "3972121b-75f0-45cc-8ad4-d103c1889309"
      },
      "outputs": [],
      "source": [
        "for i in range(5, 0, -1):\n",
        "    print(i)"
      ]
    },
    {
      "cell_type": "markdown",
      "id": "cf9e9bc0-31c7-4249-b5ed-076a8a571cd5",
      "metadata": {
        "id": "cf9e9bc0-31c7-4249-b5ed-076a8a571cd5"
      },
      "source": [
        "## For Loop dengan String\n",
        "For loop dalam Python dapat digunakan untuk mengiterasi melalui setiap karakter dalam sebuah string."
      ]
    },
    {
      "cell_type": "code",
      "execution_count": null,
      "id": "1603094c-33bc-4f0e-b3ae-f69029e1e476",
      "metadata": {
        "id": "1603094c-33bc-4f0e-b3ae-f69029e1e476"
      },
      "outputs": [],
      "source": [
        "nama_universitas = \"Universitas Mulawarman\"\n",
        "for karakter in nama_universitas:\n",
        "    print(karakter)"
      ]
    },
    {
      "cell_type": "markdown",
      "id": "0d6ce685-1adb-4de6-b5c1-406bcc72c05f",
      "metadata": {
        "id": "0d6ce685-1adb-4de6-b5c1-406bcc72c05f"
      },
      "source": [
        "Dalam contoh diatas, for loop digunakan untuk mengambil setiap karakter dalam string __nama_universitas__ dan mencetaknya satu per satu. Setiap karakter dalam string dianggap sebagai elemen yang dapat diakses melalui for loop."
      ]
    },
    {
      "cell_type": "markdown",
      "id": "a69ccb30-ab1c-4f19-b86d-65c2b602f0e9",
      "metadata": {
        "id": "a69ccb30-ab1c-4f19-b86d-65c2b602f0e9"
      },
      "source": [
        "Anda juga dapat menggunakan for loop untuk mengakses indeks dan karakter secara bersamaan dalam string, seperti ini:"
      ]
    },
    {
      "cell_type": "code",
      "execution_count": null,
      "id": "bd10b6ac-3ba5-4b30-9cd0-3ce78a4c9bf6",
      "metadata": {
        "id": "bd10b6ac-3ba5-4b30-9cd0-3ce78a4c9bf6"
      },
      "outputs": [],
      "source": [
        "nama_universitas = \"Universitas Mulawarman\"\n",
        "for i, karakter in enumerate(nama_universitas):\n",
        "    print(f\"Karakter pada index {i} adalah: {karakter}\")"
      ]
    },
    {
      "cell_type": "markdown",
      "id": "5cb42b47-79f5-41fe-b6d5-52437624f9b2",
      "metadata": {
        "id": "5cb42b47-79f5-41fe-b6d5-52437624f9b2"
      },
      "source": [
        "## For Loop dengan List\n",
        "For loop dalam Python sering digunakan dengan list karena list adalah salah satu jenis data kolektif yang paling umum digunakan."
      ]
    },
    {
      "cell_type": "code",
      "execution_count": null,
      "id": "4bf780a7-b3c5-4776-ab17-86d64d9695ea",
      "metadata": {
        "id": "4bf780a7-b3c5-4776-ab17-86d64d9695ea"
      },
      "outputs": [],
      "source": [
        "digits = [1,2,3,4,5]\n",
        "for item in digits:\n",
        "    print(item)"
      ]
    },
    {
      "cell_type": "markdown",
      "id": "86d21500-a90c-434d-a782-cef308be6321",
      "metadata": {
        "id": "86d21500-a90c-434d-a782-cef308be6321"
      },
      "source": [
        "Pada contoh di atas, for loop mengambil setiap elemen dalam my_list satu per satu, dan setiap elemen disimpan dalam variabel item. Blok kode dalam loop (print(item)) kemudian dieksekusi untuk setiap elemen dalam list, mencetak nilai elemen tersebut ke layar."
      ]
    },
    {
      "cell_type": "markdown",
      "id": "ffedebf8-d37f-4d88-88b2-7fb1fa6abe7b",
      "metadata": {
        "id": "ffedebf8-d37f-4d88-88b2-7fb1fa6abe7b"
      },
      "source": [
        "Anda juga dapat menggunakan for loop untuk memodifikasi elemen dalam list atau membuat list baru berdasarkan list yang sudah ada. Contoh di bawah ini menunjukkan cara menggandakan setiap elemen dalam list __digits__:"
      ]
    },
    {
      "cell_type": "code",
      "execution_count": null,
      "id": "0cf79351-83b3-4cb0-b41e-43badfc4b4e9",
      "metadata": {
        "id": "0cf79351-83b3-4cb0-b41e-43badfc4b4e9"
      },
      "outputs": [],
      "source": [
        "new_digits = []\n",
        "for item in digits:\n",
        "    new_digits.append(item * 2)\n",
        "\n",
        "print(new_digits)"
      ]
    },
    {
      "cell_type": "markdown",
      "id": "bf010c56-d1ec-4a70-b242-939fb1e2e64e",
      "metadata": {
        "id": "bf010c56-d1ec-4a70-b242-939fb1e2e64e"
      },
      "source": [
        "Outputnya akan menjadi [2, 4, 6, 8, 10], yang merupakan setiap elemen dalam __digits__ yang telah dikalikan dengan 2. Dengan menggunakan for loop dengan list, Anda dapat melakukan berbagai operasi yang melibatkan setiap elemen dalam list dengan cara yang efisien dan mudah dipahami."
      ]
    },
    {
      "cell_type": "markdown",
      "id": "eb4c5a80-23b1-42d2-803d-fcb4d615839b",
      "metadata": {
        "id": "eb4c5a80-23b1-42d2-803d-fcb4d615839b"
      },
      "source": [
        "## For Loop dengan Tuple\n",
        "Tuple adalah struktur data yang mirip dengan list, tetapi elemen-elemennya bersifat tidak dapat diubah setelah tuple dibuat."
      ]
    },
    {
      "cell_type": "code",
      "execution_count": null,
      "id": "53f3323c-e069-40f3-b635-dec6b8349fdc",
      "metadata": {
        "id": "53f3323c-e069-40f3-b635-dec6b8349fdc"
      },
      "outputs": [],
      "source": [
        "digits = (1,2,3,4,5)\n",
        "for item in digits:\n",
        "    print(item)"
      ]
    },
    {
      "cell_type": "markdown",
      "id": "b05042ee-bf55-42f2-9407-0c04d999870d",
      "metadata": {
        "id": "b05042ee-bf55-42f2-9407-0c04d999870d"
      },
      "source": [
        "## For Loop dengan Set\n",
        "Set dalam Python adalah struktur data yang berisi kumpulan elemen unik tanpa urutan tertentu."
      ]
    },
    {
      "cell_type": "code",
      "execution_count": null,
      "id": "f7115cdb-b672-41d5-87c9-040197285bd8",
      "metadata": {
        "id": "f7115cdb-b672-41d5-87c9-040197285bd8"
      },
      "outputs": [],
      "source": [
        "digits = {1,2,3,4,5}\n",
        "for item in digits:\n",
        "    print(item)"
      ]
    },
    {
      "cell_type": "markdown",
      "id": "787c5a82-89c4-4f87-b542-29a4575c398c",
      "metadata": {
        "id": "787c5a82-89c4-4f87-b542-29a4575c398c"
      },
      "source": [
        "Set dan list adalah dua struktur data yang umum digunakan dalam pemrograman Python, namun keduanya memiliki perbedaan dalam karakteristik dan penggunaannya.\n",
        "\n",
        "Berikut adalah perbedaan utama antara set dan list:\n",
        "\n",
        "1. Duplikasi Nilai:\n",
        "   List dapat memiliki duplikat nilai, artinya elemen-elemen dalam list dapat sama.\n",
        "   Set tidak dapat memiliki duplikat nilai, sehingga setiap elemen dalam set harus unik.\n",
        "\n",
        "2. Urutan:\n",
        "   List adalah struktur data yang berurutan, artinya elemen-elemen dalam list memiliki indeks yang menunjukkan posisi mereka dalam list.\n",
        "   Set tidak mempertahankan urutan, sehingga tidak ada indeks yang menunjukkan posisi elemen dalam set.\n",
        "\n",
        "4. Notasi:\n",
        "   List ditulis dalam tanda kurung siku [], misalnya [1, 2, 3, 4, 5].\n",
        "   Set ditulis dalam tanda kurung kurawal {}, misalnya {1, 2, 3, 4, 5}.\n",
        "\n",
        "6. Penggunaan:\n",
        "   List digunakan ketika urutan dan duplikat nilai penting, atau ketika perlu mengubah elemen-elemen dalam struktur data.\n",
        "   Set digunakan ketika hanya nilai unik yang penting, atau ketika perlu melakukan operasi himpunan seperti gabungan, irisan, atau perbedaan antara dua set.\n",
        "\n",
        "8. Mutabilitas:\n",
        "   List bersifat mutable, artinya elemen-elemen dalam list dapat diubah setelah list dibuat.\n",
        "   Set juga bersifat mutable, sehingga elemen-elemen dalam set dapat diubah setelah set dibuat. Namun, elemen set tidak bisa diubah langsung karena setiap elemen harus unik.\n",
        "\n",
        "Dengan memahami perbedaan ini, Anda dapat memilih struktur data yang sesuai dengan kebutuhan program Anda. Jika Anda memerlukan urutan dan/atau memungkinkan duplikat nilai, gunakan list. Jika Anda memerlukan nilai unik dan tidak peduli dengan urutan, gunakan set.\n"
      ]
    },
    {
      "cell_type": "markdown",
      "id": "a9bb4bf1-c893-4cb9-9a68-513f7c7dd559",
      "metadata": {
        "id": "a9bb4bf1-c893-4cb9-9a68-513f7c7dd559"
      },
      "source": [
        "## For Loop dengan Dictionary\n",
        "For loop dalam Python dapat digunakan untuk mengulangi melalui setiap pasangan key – value dalam dictionary."
      ]
    },
    {
      "cell_type": "code",
      "execution_count": null,
      "id": "59d29a07-c3c9-48b9-b4f2-7dad74092efa",
      "metadata": {
        "id": "59d29a07-c3c9-48b9-b4f2-7dad74092efa"
      },
      "outputs": [],
      "source": [
        "mahasiswa_dicts = {\"nama\": \"Mahasiwa\", \"umur\": 31, \"provinsi\":\"DKI Jakarta\", \"kota\": \"jakarta Pusat\"}\n",
        "for key in mahasiswa_dicts:\n",
        "    value = mahasiswa_dicts[key]\n",
        "    print(f\"{key} : {value}\")"
      ]
    },
    {
      "cell_type": "markdown",
      "id": "bf9069c3-95ab-425c-bdd6-b29b1dfd1f1e",
      "metadata": {
        "id": "bf9069c3-95ab-425c-bdd6-b29b1dfd1f1e"
      },
      "source": [
        "Dalam contoh diatas, for key in __mahasiswa_dicts__ digunakan untuk mengambil setiap kunci dalam __mahasiswa_dicts__, dan __mahasiswa_dicts[key]__ digunakan untuk mengakses nilai yang sesuai dengan kunci tersebut."
      ]
    },
    {
      "cell_type": "markdown",
      "id": "07bd606e-df92-491f-9f50-54998bef9142",
      "metadata": {
        "id": "07bd606e-df92-491f-9f50-54998bef9142"
      },
      "source": [
        "Anda juga dapat menggunakan metode items() untuk mengakses pasangan kunci-nilai secara langsung:"
      ]
    },
    {
      "cell_type": "code",
      "execution_count": null,
      "id": "38169acb-0493-4283-afd3-82181b99b80d",
      "metadata": {
        "id": "38169acb-0493-4283-afd3-82181b99b80d"
      },
      "outputs": [],
      "source": [
        "for key, value in mahasiswa_dicts.items():\n",
        "    print(f'{key} : {value}')"
      ]
    },
    {
      "cell_type": "markdown",
      "id": "394d52ac-41b1-4bef-b2d1-3710040e41c0",
      "metadata": {
        "id": "394d52ac-41b1-4bef-b2d1-3710040e41c0"
      },
      "source": [
        "Ini akan menghasilkan output yang sama seperti sebelumnya. Dengan menggunakan for loop, Anda dapat dengan mudah mengakses dan memanipulasi setiap elemen dalam dictionary Python.\n"
      ]
    }
  ],
  "metadata": {
    "kernelspec": {
      "display_name": "Python 3 (ipykernel)",
      "language": "python",
      "name": "python3"
    },
    "language_info": {
      "codemirror_mode": {
        "name": "ipython",
        "version": 3
      },
      "file_extension": ".py",
      "mimetype": "text/x-python",
      "name": "python",
      "nbconvert_exporter": "python",
      "pygments_lexer": "ipython3",
      "version": "3.12.1"
    },
    "colab": {
      "provenance": [],
      "toc_visible": true
    }
  },
  "nbformat": 4,
  "nbformat_minor": 5
}